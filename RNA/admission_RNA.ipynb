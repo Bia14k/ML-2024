{
  "nbformat": 4,
  "nbformat_minor": 0,
  "metadata": {
    "colab": {
      "provenance": [],
      "gpuType": "T4"
    },
    "kernelspec": {
      "name": "python3",
      "display_name": "Python 3"
    },
    "language_info": {
      "name": "python"
    },
    "accelerator": "GPU"
  },
  "cells": [
    {
      "cell_type": "markdown",
      "source": [
        "# Rede Neural Simples"
      ],
      "metadata": {
        "id": "Ezf98u84xVc5"
      }
    },
    {
      "cell_type": "code",
      "source": [
        "import pandas as pd\n",
        "from sklearn.model_selection import train_test_split\n",
        "from sklearn.preprocessing import StandardScaler\n",
        "from keras.models import Sequential\n",
        "from keras.layers import Dense"
      ],
      "metadata": {
        "id": "IbCF9O5RNz0y"
      },
      "execution_count": 7,
      "outputs": []
    },
    {
      "cell_type": "code",
      "source": [
        "from google.colab import drive\n",
        "drive.mount('/content/drive')"
      ],
      "metadata": {
        "colab": {
          "base_uri": "https://localhost:8080/"
        },
        "id": "R4E8y2Y0xfAn",
        "outputId": "feed0876-73a6-4078-e9c9-0982af9ac5bd"
      },
      "execution_count": 1,
      "outputs": [
        {
          "output_type": "stream",
          "name": "stdout",
          "text": [
            "Mounted at /content/drive\n"
          ]
        }
      ]
    },
    {
      "cell_type": "code",
      "source": [
        "data = pd.read_csv('/content/drive/MyDrive/Machine_Learn/Datasets/admission_dataset.csv')\n",
        "print(data)"
      ],
      "metadata": {
        "colab": {
          "base_uri": "https://localhost:8080/"
        },
        "id": "bpIxFF-yM8eC",
        "outputId": "ca286ff6-579d-42f4-9f17-66424ef0349f"
      },
      "execution_count": 4,
      "outputs": [
        {
          "output_type": "stream",
          "name": "stdout",
          "text": [
            "     GRE Score  TOEFL Score  University Rating  SOP  LOR   CGPA  Research  \\\n",
            "0          315          105                  3  2.0   2.5  8.48         0   \n",
            "1          321          112                  5  5.0   5.0  9.06         1   \n",
            "2          327          103                  3  4.0   4.0  8.30         1   \n",
            "3          305          112                  3  3.0   3.5  8.65         0   \n",
            "4          297           96                  2  2.5   1.5  7.89         0   \n",
            "..         ...          ...                ...  ...   ...   ...       ...   \n",
            "395        320          111                  4  4.5   3.5  8.87         1   \n",
            "396        305          103                  2  2.5   3.5  8.13         0   \n",
            "397        305          107                  2  2.5   2.5  8.42         0   \n",
            "398        320          104                  3  3.0   2.5  8.57         1   \n",
            "399        331          120                  3  4.0   4.0  8.96         1   \n",
            "\n",
            "     Chance of Admit   \n",
            "0                0.75  \n",
            "1                0.86  \n",
            "2                0.74  \n",
            "3                0.71  \n",
            "4                0.43  \n",
            "..                ...  \n",
            "395              0.85  \n",
            "396              0.59  \n",
            "397              0.71  \n",
            "398              0.74  \n",
            "399              0.86  \n",
            "\n",
            "[400 rows x 8 columns]\n"
          ]
        }
      ]
    },
    {
      "cell_type": "markdown",
      "source": [
        "## Divisão"
      ],
      "metadata": {
        "id": "YayVld_fy4zE"
      }
    },
    {
      "cell_type": "code",
      "source": [
        "data.dropna(inplace=True)\n",
        "X = data.drop(columns=['Chance of Admit '])\n",
        "y = data['Chance of Admit ']"
      ],
      "metadata": {
        "id": "WcKKO5DWPezi"
      },
      "execution_count": 8,
      "outputs": []
    },
    {
      "cell_type": "code",
      "source": [
        "X_train, X_test, y_train, y_test = train_test_split(X, y, test_size=0.2, random_state=42)"
      ],
      "metadata": {
        "id": "Zfv3TEs2PiQe"
      },
      "execution_count": 9,
      "outputs": []
    },
    {
      "cell_type": "markdown",
      "source": [
        "## Normalização"
      ],
      "metadata": {
        "id": "oMJciwfV3zOr"
      }
    },
    {
      "cell_type": "code",
      "source": [
        "scaler = StandardScaler()\n",
        "X_train_scaled = scaler.fit_transform(X_train)\n",
        "X_test_scaled = scaler.transform(X_test)"
      ],
      "metadata": {
        "id": "p33cpHvi3yNU"
      },
      "execution_count": 10,
      "outputs": []
    },
    {
      "cell_type": "markdown",
      "source": [
        "## RNA"
      ],
      "metadata": {
        "id": "y-01tIxWy9u9"
      }
    },
    {
      "cell_type": "code",
      "source": [
        "model = Sequential()\n",
        "model.add(Dense(64, activation='relu', input_shape=(X_train.shape[1],)))\n",
        "model.add(Dense(32, activation='relu')) #camada oculta\n",
        "model.add(Dense(1, activation='linear'))  # Camada de saída para regressão linear\n",
        "\n",
        "model.compile(optimizer='adam', loss='mean_squared_error')\n",
        "model.fit(X_train_scaled, y_train, epochs=50, batch_size=32, validation_split=0.2)\n",
        "\n",
        "# Avaliando\n",
        "loss = model.evaluate(X_test_scaled, y_test)\n",
        "print('Test Loss:', loss)\n"
      ],
      "metadata": {
        "colab": {
          "base_uri": "https://localhost:8080/"
        },
        "id": "zU4Lc45T2fkl",
        "outputId": "972448b9-e374-4b7d-b98a-11a8cd7696b5"
      },
      "execution_count": 15,
      "outputs": [
        {
          "output_type": "stream",
          "name": "stdout",
          "text": [
            "Epoch 1/50\n",
            "8/8 [==============================] - 4s 71ms/step - loss: 2.6173 - val_loss: 2.3518\n",
            "Epoch 2/50\n",
            "8/8 [==============================] - 0s 26ms/step - loss: 1.6804 - val_loss: 1.4813\n",
            "Epoch 3/50\n",
            "8/8 [==============================] - 0s 22ms/step - loss: 1.0038 - val_loss: 0.8638\n",
            "Epoch 4/50\n",
            "8/8 [==============================] - 0s 22ms/step - loss: 0.5638 - val_loss: 0.4684\n",
            "Epoch 5/50\n",
            "8/8 [==============================] - 0s 14ms/step - loss: 0.3217 - val_loss: 0.2465\n",
            "Epoch 6/50\n",
            "8/8 [==============================] - 0s 17ms/step - loss: 0.2012 - val_loss: 0.1455\n",
            "Epoch 7/50\n",
            "8/8 [==============================] - 0s 10ms/step - loss: 0.1492 - val_loss: 0.1096\n",
            "Epoch 8/50\n",
            "8/8 [==============================] - 0s 12ms/step - loss: 0.1262 - val_loss: 0.0969\n",
            "Epoch 9/50\n",
            "8/8 [==============================] - 0s 21ms/step - loss: 0.1103 - val_loss: 0.0885\n",
            "Epoch 10/50\n",
            "8/8 [==============================] - 0s 18ms/step - loss: 0.0967 - val_loss: 0.0789\n",
            "Epoch 11/50\n",
            "8/8 [==============================] - 0s 12ms/step - loss: 0.0848 - val_loss: 0.0694\n",
            "Epoch 12/50\n",
            "8/8 [==============================] - 0s 13ms/step - loss: 0.0742 - val_loss: 0.0609\n",
            "Epoch 13/50\n",
            "8/8 [==============================] - 0s 13ms/step - loss: 0.0656 - val_loss: 0.0534\n",
            "Epoch 14/50\n",
            "8/8 [==============================] - 0s 11ms/step - loss: 0.0583 - val_loss: 0.0469\n",
            "Epoch 15/50\n",
            "8/8 [==============================] - 0s 11ms/step - loss: 0.0520 - val_loss: 0.0414\n",
            "Epoch 16/50\n",
            "8/8 [==============================] - 0s 16ms/step - loss: 0.0464 - val_loss: 0.0370\n",
            "Epoch 17/50\n",
            "8/8 [==============================] - 0s 10ms/step - loss: 0.0419 - val_loss: 0.0331\n",
            "Epoch 18/50\n",
            "8/8 [==============================] - 0s 7ms/step - loss: 0.0381 - val_loss: 0.0298\n",
            "Epoch 19/50\n",
            "8/8 [==============================] - 0s 9ms/step - loss: 0.0345 - val_loss: 0.0271\n",
            "Epoch 20/50\n",
            "8/8 [==============================] - 0s 9ms/step - loss: 0.0317 - val_loss: 0.0248\n",
            "Epoch 21/50\n",
            "8/8 [==============================] - 0s 6ms/step - loss: 0.0291 - val_loss: 0.0227\n",
            "Epoch 22/50\n",
            "8/8 [==============================] - 0s 6ms/step - loss: 0.0269 - val_loss: 0.0208\n",
            "Epoch 23/50\n",
            "8/8 [==============================] - 0s 6ms/step - loss: 0.0251 - val_loss: 0.0194\n",
            "Epoch 24/50\n",
            "8/8 [==============================] - 0s 6ms/step - loss: 0.0234 - val_loss: 0.0182\n",
            "Epoch 25/50\n",
            "8/8 [==============================] - 0s 6ms/step - loss: 0.0220 - val_loss: 0.0169\n",
            "Epoch 26/50\n",
            "8/8 [==============================] - 0s 10ms/step - loss: 0.0206 - val_loss: 0.0159\n",
            "Epoch 27/50\n",
            "8/8 [==============================] - 0s 6ms/step - loss: 0.0195 - val_loss: 0.0151\n",
            "Epoch 28/50\n",
            "8/8 [==============================] - 0s 6ms/step - loss: 0.0184 - val_loss: 0.0142\n",
            "Epoch 29/50\n",
            "8/8 [==============================] - 0s 6ms/step - loss: 0.0174 - val_loss: 0.0135\n",
            "Epoch 30/50\n",
            "8/8 [==============================] - 0s 6ms/step - loss: 0.0165 - val_loss: 0.0128\n",
            "Epoch 31/50\n",
            "8/8 [==============================] - 0s 6ms/step - loss: 0.0158 - val_loss: 0.0123\n",
            "Epoch 32/50\n",
            "8/8 [==============================] - 0s 6ms/step - loss: 0.0150 - val_loss: 0.0118\n",
            "Epoch 33/50\n",
            "8/8 [==============================] - 0s 6ms/step - loss: 0.0144 - val_loss: 0.0114\n",
            "Epoch 34/50\n",
            "8/8 [==============================] - 0s 8ms/step - loss: 0.0137 - val_loss: 0.0109\n",
            "Epoch 35/50\n",
            "8/8 [==============================] - 0s 6ms/step - loss: 0.0132 - val_loss: 0.0105\n",
            "Epoch 36/50\n",
            "8/8 [==============================] - 0s 6ms/step - loss: 0.0127 - val_loss: 0.0102\n",
            "Epoch 37/50\n",
            "8/8 [==============================] - 0s 6ms/step - loss: 0.0122 - val_loss: 0.0098\n",
            "Epoch 38/50\n",
            "8/8 [==============================] - 0s 6ms/step - loss: 0.0117 - val_loss: 0.0095\n",
            "Epoch 39/50\n",
            "8/8 [==============================] - 0s 6ms/step - loss: 0.0113 - val_loss: 0.0093\n",
            "Epoch 40/50\n",
            "8/8 [==============================] - 0s 8ms/step - loss: 0.0109 - val_loss: 0.0090\n",
            "Epoch 41/50\n",
            "8/8 [==============================] - 0s 6ms/step - loss: 0.0105 - val_loss: 0.0087\n",
            "Epoch 42/50\n",
            "8/8 [==============================] - 0s 6ms/step - loss: 0.0102 - val_loss: 0.0085\n",
            "Epoch 43/50\n",
            "8/8 [==============================] - 0s 6ms/step - loss: 0.0099 - val_loss: 0.0083\n",
            "Epoch 44/50\n",
            "8/8 [==============================] - 0s 6ms/step - loss: 0.0096 - val_loss: 0.0081\n",
            "Epoch 45/50\n",
            "8/8 [==============================] - 0s 9ms/step - loss: 0.0094 - val_loss: 0.0080\n",
            "Epoch 46/50\n",
            "8/8 [==============================] - 0s 6ms/step - loss: 0.0091 - val_loss: 0.0078\n",
            "Epoch 47/50\n",
            "8/8 [==============================] - 0s 6ms/step - loss: 0.0089 - val_loss: 0.0076\n",
            "Epoch 48/50\n",
            "8/8 [==============================] - 0s 6ms/step - loss: 0.0087 - val_loss: 0.0075\n",
            "Epoch 49/50\n",
            "8/8 [==============================] - 0s 6ms/step - loss: 0.0084 - val_loss: 0.0073\n",
            "Epoch 50/50\n",
            "8/8 [==============================] - 0s 6ms/step - loss: 0.0083 - val_loss: 0.0072\n",
            "3/3 [==============================] - 0s 4ms/step - loss: 0.0163\n",
            "Test Loss: 0.016282079741358757\n"
          ]
        }
      ]
    }
  ]
}